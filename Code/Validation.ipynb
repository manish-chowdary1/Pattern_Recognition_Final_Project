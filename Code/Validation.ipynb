{
 "cells": [
  {
   "cell_type": "markdown",
   "id": "0c22088c",
   "metadata": {},
   "source": [
    "# Validation"
   ]
  },
  {
   "cell_type": "code",
   "execution_count": 17,
   "id": "e50944c0-892f-4e2c-9eeb-ea4993623e36",
   "metadata": {},
   "outputs": [],
   "source": [
    "import torch\n",
    "import torch.nn as nn\n",
    "import torch.optim as optim\n",
    "from torch.optim import lr_scheduler\n",
    "import numpy as np\n",
    "import torchvision\n",
    "from torchvision import datasets, models, transforms\n",
    "from torch.utils.data import TensorDataset, DataLoader, Dataset\n",
    "from sklearn.utils import shuffle"
   ]
  },
  {
   "cell_type": "code",
   "execution_count": 2,
   "id": "598e2bd1-1348-40cf-ba1c-1a1d416d387e",
   "metadata": {},
   "outputs": [],
   "source": [
    "device = torch.device(\"cuda:0\" if torch.cuda.is_available() else \"cpu\")"
   ]
  },
  {
   "cell_type": "code",
   "execution_count": 3,
   "id": "a9f4b826-bda9-409f-8c15-17d5cc0d4fce",
   "metadata": {},
   "outputs": [],
   "source": [
    "import numpy as np\n",
    "import random\n",
    "import numpy.random as npr\n",
    "import matplotlib.pyplot as plt\n",
    "from sklearn.model_selection import train_test_split\n",
    "from sklearn.metrics import accuracy_score\n",
    "import matplotlib.image as img\n",
    "from matplotlib import offsetbox\n",
    "from PIL import Image\n",
    "import shutil \n",
    "import pandas as pd\n",
    "import zipfile as zf\n",
    "from tqdm.auto import tqdm\n",
    "import yaml\n",
    "import collections\n",
    "import json\n",
    "import random\n",
    "import matplotlib.patches as patches\n",
    "import pickle\n",
    "import cv2\n",
    "import time\n",
    "import os\n",
    "import copy\n",
    "import math\n",
    "from time import time\n",
    "import warnings\n",
    "%matplotlib inline\n",
    "plt.style.use('bmh')\n",
    "warnings.filterwarnings('ignore')"
   ]
  },
  {
   "cell_type": "code",
   "execution_count": 4,
   "id": "a12976bc-9f52-48e3-88df-527c187c8871",
   "metadata": {},
   "outputs": [
    {
     "name": "stdout",
     "output_type": "stream",
     "text": [
      "1\n"
     ]
    }
   ],
   "source": [
    "num_of_gpus = torch.cuda.device_count()\n",
    "print(num_of_gpus)"
   ]
  },
  {
   "cell_type": "code",
   "execution_count": 6,
   "id": "847771a4-4a6c-47ca-84e9-575afcb83d6f",
   "metadata": {},
   "outputs": [],
   "source": [
    "class ResNet101(nn.Module):\n",
    "    def __init__(self, num_classes):\n",
    "        super(ResNet101, self).__init__()\n",
    "        self.resnet = nn.Sequential(*list(torchvision.models.resnet101(pretrained=True).children())[:-1])\n",
    "        self.classifier = nn.Linear(2048, num_classes)\n",
    "\n",
    "    def forward(self, x):\n",
    "        x = self.resnet(x)\n",
    "        x = x.view(x.size(0), -1)\n",
    "        x = self.classifier(x)\n",
    "        return x"
   ]
  },
  {
   "cell_type": "code",
   "execution_count": 7,
   "id": "0297c363-018c-495a-8e35-5884d74d52bd",
   "metadata": {},
   "outputs": [],
   "source": [
    "PATH = './FPLD-ResNet-101-CLS.pth'\n",
    "model = torch.load(PATH)\n",
    "model = model.to(device)"
   ]
  },
  {
   "cell_type": "code",
   "execution_count": 8,
   "id": "e660dc50-46c2-4c0f-8169-506c66f8c945",
   "metadata": {},
   "outputs": [],
   "source": [
    "def load_images_labels(df):\n",
    "    X , t =[],[]\n",
    "    for i in range(len(df)):\n",
    "        if df['Image'][i]:\n",
    "            img = cv2.imread(df['Image'][i])\n",
    "            X.append(np.array(img).reshape(3,300,300))\n",
    "            t.append(int(df['Label'][i]))\n",
    "        else:\n",
    "            break\n",
    "    print(\"Processed all the Images and their corresponding attributes\")\n",
    "    return np.array(X),np.array(t)     "
   ]
  },
  {
   "cell_type": "code",
   "execution_count": 9,
   "id": "d8d99207-d282-4274-b008-ebcf0f370015",
   "metadata": {},
   "outputs": [
    {
     "data": {
      "text/html": [
       "<div>\n",
       "<style scoped>\n",
       "    .dataframe tbody tr th:only-of-type {\n",
       "        vertical-align: middle;\n",
       "    }\n",
       "\n",
       "    .dataframe tbody tr th {\n",
       "        vertical-align: top;\n",
       "    }\n",
       "\n",
       "    .dataframe thead th {\n",
       "        text-align: right;\n",
       "    }\n",
       "</style>\n",
       "<table border=\"1\" class=\"dataframe\">\n",
       "  <thead>\n",
       "    <tr style=\"text-align: right;\">\n",
       "      <th></th>\n",
       "      <th>Image</th>\n",
       "      <th>Label</th>\n",
       "    </tr>\n",
       "  </thead>\n",
       "  <tbody>\n",
       "    <tr>\n",
       "      <th>0</th>\n",
       "      <td>/blue/eel6825/ravipatim/2015/preprocessed_data...</td>\n",
       "      <td>1</td>\n",
       "    </tr>\n",
       "    <tr>\n",
       "      <th>1</th>\n",
       "      <td>/blue/eel6825/ravipatim/2015/preprocessed_data...</td>\n",
       "      <td>1</td>\n",
       "    </tr>\n",
       "    <tr>\n",
       "      <th>2</th>\n",
       "      <td>/blue/eel6825/ravipatim/2015/preprocessed_data...</td>\n",
       "      <td>1</td>\n",
       "    </tr>\n",
       "    <tr>\n",
       "      <th>3</th>\n",
       "      <td>/blue/eel6825/ravipatim/2015/preprocessed_data...</td>\n",
       "      <td>1</td>\n",
       "    </tr>\n",
       "    <tr>\n",
       "      <th>4</th>\n",
       "      <td>/blue/eel6825/ravipatim/2015/preprocessed_data...</td>\n",
       "      <td>1</td>\n",
       "    </tr>\n",
       "    <tr>\n",
       "      <th>...</th>\n",
       "      <td>...</td>\n",
       "      <td>...</td>\n",
       "    </tr>\n",
       "    <tr>\n",
       "      <th>1245</th>\n",
       "      <td>/blue/eel6825/ravipatim/2015/preprocessed_data...</td>\n",
       "      <td>0</td>\n",
       "    </tr>\n",
       "    <tr>\n",
       "      <th>1246</th>\n",
       "      <td>/blue/eel6825/ravipatim/2015/preprocessed_data...</td>\n",
       "      <td>0</td>\n",
       "    </tr>\n",
       "    <tr>\n",
       "      <th>1247</th>\n",
       "      <td>/blue/eel6825/ravipatim/2015/preprocessed_data...</td>\n",
       "      <td>0</td>\n",
       "    </tr>\n",
       "    <tr>\n",
       "      <th>1248</th>\n",
       "      <td>/blue/eel6825/ravipatim/2015/preprocessed_data...</td>\n",
       "      <td>0</td>\n",
       "    </tr>\n",
       "    <tr>\n",
       "      <th>1249</th>\n",
       "      <td>/blue/eel6825/ravipatim/2015/preprocessed_data...</td>\n",
       "      <td>0</td>\n",
       "    </tr>\n",
       "  </tbody>\n",
       "</table>\n",
       "<p>1250 rows × 2 columns</p>\n",
       "</div>"
      ],
      "text/plain": [
       "                                                  Image  Label\n",
       "0     /blue/eel6825/ravipatim/2015/preprocessed_data...      1\n",
       "1     /blue/eel6825/ravipatim/2015/preprocessed_data...      1\n",
       "2     /blue/eel6825/ravipatim/2015/preprocessed_data...      1\n",
       "3     /blue/eel6825/ravipatim/2015/preprocessed_data...      1\n",
       "4     /blue/eel6825/ravipatim/2015/preprocessed_data...      1\n",
       "...                                                 ...    ...\n",
       "1245  /blue/eel6825/ravipatim/2015/preprocessed_data...      0\n",
       "1246  /blue/eel6825/ravipatim/2015/preprocessed_data...      0\n",
       "1247  /blue/eel6825/ravipatim/2015/preprocessed_data...      0\n",
       "1248  /blue/eel6825/ravipatim/2015/preprocessed_data...      0\n",
       "1249  /blue/eel6825/ravipatim/2015/preprocessed_data...      0\n",
       "\n",
       "[1250 rows x 2 columns]"
      ]
     },
     "execution_count": 9,
     "metadata": {},
     "output_type": "execute_result"
    }
   ],
   "source": [
    "val_df = pd.read_csv('Val.csv')\n",
    "val_df = val_df.dropna(how='any')\n",
    "val_df"
   ]
  },
  {
   "cell_type": "code",
   "execution_count": 12,
   "id": "71b4f99c-a2dd-47c4-b167-b785c4376603",
   "metadata": {},
   "outputs": [
    {
     "data": {
      "image/png": "[encoded data removed]",
      "text/plain": [
       "<Figure size 432x288 with 1 Axes>"
      ]
     },
     "metadata": {
      "needs_background": "light"
     },
     "output_type": "display_data"
    }
   ],
   "source": [
    "vals, counts = np.unique(np.array(val_df['Label']), return_counts=True)\n",
    "\n",
    "plt.bar(vals, counts)\n",
    "plt.xticks(range(2),range(2))\n",
    "plt.xlabel('Classes',size=20)\n",
    "plt.ylabel('# Samples per Class', size=20)\n",
    "plt.title('Validation Data (Total = '+str(len(np.array(val_df['Image'])))+' samples)',size=15);"
   ]
  },
  {
   "cell_type": "code",
   "execution_count": 11,
   "id": "dc87611c-af8e-4dd5-a3dc-855378fe374b",
   "metadata": {},
   "outputs": [
    {
     "name": "stdout",
     "output_type": "stream",
     "text": [
      "Processed all the Images and their corresponding attributes\n"
     ]
    }
   ],
   "source": [
    "X,y = load_images_labels(val_df)"
   ]
  },
  {
   "cell_type": "code",
   "execution_count": 13,
   "id": "3b7ec7e1-15da-45de-b4aa-8303fe48bdb1",
   "metadata": {},
   "outputs": [],
   "source": [
    "transform_train = transforms.Compose([\n",
    "    transforms.ToPILImage(),\n",
    "    transforms.ToTensor(),\n",
    "    transforms.Normalize((0.485, 0.456, 0.406), (0.229, 0.224, 0.225))\n",
    "])\n",
    "\n",
    "transform_test = transforms.Compose([\n",
    "    transforms.ToPILImage(),\n",
    "    transforms.ToTensor(),\n",
    "    transforms.Normalize((0.485, 0.456, 0.406), (0.229, 0.224, 0.225))\n",
    "])"
   ]
  },
  {
   "cell_type": "code",
   "execution_count": 18,
   "id": "6fb1edb7-04ac-4a5f-8d39-8eeb6d829fe5",
   "metadata": {},
   "outputs": [],
   "source": [
    "val_data = TensorDataset(torch.Tensor(X), torch.LongTensor(y))"
   ]
  },
  {
   "cell_type": "code",
   "execution_count": 19,
   "id": "4680999b-57aa-405a-a597-7d763d1f06f6",
   "metadata": {},
   "outputs": [],
   "source": [
    "val_dataloader = DataLoader(val_data, batch_size=32, shuffle=False)"
   ]
  },
  {
   "cell_type": "code",
   "execution_count": 20,
   "id": "05f7ce53-5573-4090-9380-607ab21b26e4",
   "metadata": {},
   "outputs": [
    {
     "name": "stdout",
     "output_type": "stream",
     "text": [
      "Validation Accuracy of the network for iteration 0: 90.625 %\n",
      "Validation Accuracy of the network for iteration 1: 96.875 %\n",
      "Validation Accuracy of the network for iteration 2: 93.75 %\n",
      "Validation Accuracy of the network for iteration 3: 93.75 %\n",
      "Validation Accuracy of the network for iteration 4: 81.25 %\n",
      "Validation Accuracy of the network for iteration 5: 93.75 %\n",
      "Validation Accuracy of the network for iteration 6: 93.75 %\n",
      "Validation Accuracy of the network for iteration 7: 100.0 %\n",
      "Validation Accuracy of the network for iteration 8: 90.625 %\n",
      "Validation Accuracy of the network for iteration 9: 96.875 %\n",
      "Validation Accuracy of the network for iteration 10: 93.75 %\n",
      "Validation Accuracy of the network for iteration 11: 90.625 %\n",
      "Validation Accuracy of the network for iteration 12: 93.75 %\n",
      "Validation Accuracy of the network for iteration 13: 96.875 %\n",
      "Validation Accuracy of the network for iteration 14: 93.75 %\n",
      "Validation Accuracy of the network for iteration 15: 96.875 %\n",
      "Validation Accuracy of the network for iteration 16: 90.625 %\n",
      "Validation Accuracy of the network for iteration 17: 93.75 %\n",
      "Validation Accuracy of the network for iteration 18: 93.75 %\n",
      "Validation Accuracy of the network for iteration 19: 93.75 %\n",
      "Validation Accuracy of the network for iteration 20: 100.0 %\n",
      "Validation Accuracy of the network for iteration 21: 93.75 %\n",
      "Validation Accuracy of the network for iteration 22: 90.625 %\n",
      "Validation Accuracy of the network for iteration 23: 87.5 %\n",
      "Validation Accuracy of the network for iteration 24: 96.875 %\n",
      "Validation Accuracy of the network for iteration 25: 96.875 %\n",
      "Validation Accuracy of the network for iteration 26: 90.625 %\n",
      "Validation Accuracy of the network for iteration 27: 93.75 %\n",
      "Validation Accuracy of the network for iteration 28: 96.875 %\n",
      "Validation Accuracy of the network for iteration 29: 90.625 %\n",
      "Validation Accuracy of the network for iteration 30: 96.875 %\n",
      "Validation Accuracy of the network for iteration 31: 84.375 %\n",
      "Validation Accuracy of the network for iteration 32: 90.625 %\n",
      "Validation Accuracy of the network for iteration 33: 96.875 %\n",
      "Validation Accuracy of the network for iteration 34: 90.625 %\n",
      "Validation Accuracy of the network for iteration 35: 87.5 %\n",
      "Validation Accuracy of the network for iteration 36: 84.375 %\n",
      "Validation Accuracy of the network for iteration 37: 75.0 %\n",
      "Validation Accuracy of the network for iteration 38: 96.875 %\n",
      "Validation Accuracy of the network for iteration 39: 50.0 %\n",
      "Average Validation Accuracy of the network 91.0\n"
     ]
    }
   ],
   "source": [
    "avg=[]\n",
    "model.eval()   # Set model to evaluate mode\n",
    "iter=0\n",
    "for inputs, labels in val_dataloader:\n",
    "      inputs = inputs.to(device)\n",
    "      labels = labels.to(device)\n",
    "      outputs = model(inputs)\n",
    "      _, predicted = torch.max(outputs.data, 1)\n",
    "    \n",
    "      labels =labels.to(device)\n",
    "      pred = predicted.to(device)\n",
    "      labels =labels.cpu().numpy()\n",
    "      pred =pred.cpu().numpy()\n",
    "      acc =  100.0 * accuracy_score(labels,pred)\n",
    "      avg.append(acc)\n",
    "      print('Validation Accuracy of the network for iteration {0}: {1} %'.format(iter,acc))\n",
    "      iter+=1\n",
    "print(\"Average Validation Accuracy of the network\",sum(avg)//iter)"
   ]
  }
 ],
 "metadata": {
  "kernelspec": {
   "display_name": "Python 3 (ipykernel)",
   "language": "python",
   "name": "python3"
  },
  "language_info": {
   "codemirror_mode": {
    "name": "ipython",
    "version": 3
   },
   "file_extension": ".py",
   "mimetype": "text/x-python",
   "name": "python",
   "nbconvert_exporter": "python",
   "pygments_lexer": "ipython3",
   "version": "3.9.13"
  }
 },
 "nbformat": 4,
 "nbformat_minor": 5
}
