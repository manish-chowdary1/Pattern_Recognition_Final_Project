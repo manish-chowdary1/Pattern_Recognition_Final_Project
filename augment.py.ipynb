{
 "cells": [
  {
   "cell_type": "code",
   "execution_count": 6,
   "id": "a80c3a24",
   "metadata": {},
   "outputs": [],
   "source": [
    "import numpy as np\n",
    "import os\n",
    "from glob import glob\n",
    "from scipy import misc\n",
    "import imageio.v2\n",
    "\n",
    "\n",
    "IMG_TRANSLATION_RATIO = 0.8\n",
    "dirs = {\n",
    "         \"C:\\\\Users\\\\manis\\\\Desktop\\\\2015\\\\Training\\\\Digital_Persona\\\\Fake\": \"C:\\\\Users\\\\manis\\\\Desktop\\\\2015\\\\Training\\\\Digital_Persona\\\\Fake\",\n",
    "         \"C:\\\\Users\\\\manis\\\\Desktop\\\\2015\\\\Training\\\\Digital_Persona\\\\Live\": \"C:\\\\Users\\\\manis\\\\Desktop\\\\2015\\\\Training\\\\Digital_Persona\\\\Live\"\n",
    "}\n",
    "\n",
    "\n",
    "\n",
    "def flip_axis(x, axis):\n",
    "    x = np.asarray(x).swapaxes(axis, 0)\n",
    "    x = x[::-1, ...]\n",
    "    x = x.swapaxes(0, axis)\n",
    "    return x\n",
    "\n",
    "for source_dir in dirs:\n",
    "    target_dir = dirs[source_dir]\n",
    "    if not os.path.exists(target_dir):\n",
    "        os.makedirs(target_dir)\n",
    "\n",
    "    files = sorted(glob(os.path.join(source_dir, '*')))\n",
    "    for i, f in enumerate(files):\n",
    "        arr = imageio.v2.imread(f)\n",
    "\n",
    "        w = arr.shape[1]\n",
    "        h = arr.shape[0]\n",
    "        dw = int(w * (1 - IMG_TRANSLATION_RATIO) / 2)\n",
    "        dh = int(h * (1 - IMG_TRANSLATION_RATIO) / 2)\n",
    "        new_w = w - 2 * dw\n",
    "        new_h = h - 2 * dh\n",
    "\n",
    "        patches = [\n",
    "            [0, new_h, 0, new_w],       # top left\n",
    "            [0, new_h, 2 * dw, w],      # top right\n",
    "            [dh, h - dh, dw, w - dw],   # center\n",
    "            [2 * dh, h, 0, new_w],      # bottom left\n",
    "            [2 * dh, h, 2 * dw, w],     # bottom right\n",
    "        ]\n",
    "        k = 1\n",
    "        for do_horizontal_flip in [False, True]:\n",
    "            if do_horizontal_flip:\n",
    "                arr = flip_axis(arr, 1)\n",
    "            for h1, h2, w1, w2 in patches:\n",
    "                patch = arr[h1:h2, w1:w2]\n",
    "\n",
    "                # file.png => file_k.png\n",
    "                new_f = '_{:d}.'.format(k).join(os.path.basename(f).rsplit('.', 1))\n",
    "                imageio.imwrite(os.path.join(target_dir, new_f), patch)\n",
    "                k += 1"
   ]
  }
 ],
 "metadata": {
  "kernelspec": {
   "display_name": "Python 3 (ipykernel)",
   "language": "python",
   "name": "python3"
  },
  "language_info": {
   "codemirror_mode": {
    "name": "ipython",
    "version": 3
   },
   "file_extension": ".py",
   "mimetype": "text/x-python",
   "name": "python",
   "nbconvert_exporter": "python",
   "pygments_lexer": "ipython3",
   "version": "3.9.13"
  }
 },
 "nbformat": 4,
 "nbformat_minor": 5
}
